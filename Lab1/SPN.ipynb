{
 "cells": [
  {
   "cell_type": "markdown",
   "metadata": {},
   "source": [
    "以00111010100101001101011000111111为密钥生成若干明文-密文对"
   ]
  },
  {
   "cell_type": "code",
   "execution_count": 2,
   "metadata": {},
   "outputs": [
    {
     "ename": "UnicodeDecodeError",
     "evalue": "'utf-8' codec can't decode byte 0xc7 in position 0: invalid continuation byte",
     "output_type": "error",
     "traceback": [
      "\u001b[1;31m---------------------------------------------------------------------------\u001b[0m",
      "\u001b[1;31mUnicodeDecodeError\u001b[0m                        Traceback (most recent call last)",
      "\u001b[1;32md:\\文件\\密码学基础\\Lab1\\SPN.ipynb 单元格 2\u001b[0m line \u001b[0;36m1\n\u001b[0;32m     <a href='vscode-notebook-cell:/d%3A/%E6%96%87%E4%BB%B6/%E5%AF%86%E7%A0%81%E5%AD%A6%E5%9F%BA%E7%A1%80/Lab1/SPN.ipynb#W1sZmlsZQ%3D%3D?line=15'>16</a>\u001b[0m \u001b[39m# 运行外部可执行文件并将输入数据传递给它\u001b[39;00m\n\u001b[0;32m     <a href='vscode-notebook-cell:/d%3A/%E6%96%87%E4%BB%B6/%E5%AF%86%E7%A0%81%E5%AD%A6%E5%9F%BA%E7%A1%80/Lab1/SPN.ipynb#W1sZmlsZQ%3D%3D?line=16'>17</a>\u001b[0m result \u001b[39m=\u001b[39m subprocess\u001b[39m.\u001b[39mrun([executable_file_path], \u001b[39minput\u001b[39m\u001b[39m=\u001b[39minput_data\u001b[39m.\u001b[39mencode(), stdout\u001b[39m=\u001b[39msubprocess\u001b[39m.\u001b[39mPIPE, stderr\u001b[39m=\u001b[39msubprocess\u001b[39m.\u001b[39mPIPE)\n\u001b[1;32m---> <a href='vscode-notebook-cell:/d%3A/%E6%96%87%E4%BB%B6/%E5%AF%86%E7%A0%81%E5%AD%A6%E5%9F%BA%E7%A1%80/Lab1/SPN.ipynb#W1sZmlsZQ%3D%3D?line=17'>18</a>\u001b[0m output_data \u001b[39m=\u001b[39m result\u001b[39m.\u001b[39;49mstdout\u001b[39m.\u001b[39;49mdecode()\u001b[39m.\u001b[39mstrip()  \u001b[39m# 获取外部命令的标准输出\u001b[39;00m\n\u001b[0;32m     <a href='vscode-notebook-cell:/d%3A/%E6%96%87%E4%BB%B6/%E5%AF%86%E7%A0%81%E5%AD%A6%E5%9F%BA%E7%A1%80/Lab1/SPN.ipynb#W1sZmlsZQ%3D%3D?line=19'>20</a>\u001b[0m \u001b[39m# 将生成的输入数据和外部命令的输出数据写入文件\u001b[39;00m\n\u001b[0;32m     <a href='vscode-notebook-cell:/d%3A/%E6%96%87%E4%BB%B6/%E5%AF%86%E7%A0%81%E5%AD%A6%E5%9F%BA%E7%A1%80/Lab1/SPN.ipynb#W1sZmlsZQ%3D%3D?line=20'>21</a>\u001b[0m file\u001b[39m.\u001b[39mwrite(input_data \u001b[39m+\u001b[39m \u001b[39m\"\u001b[39m\u001b[39m\\n\u001b[39;00m\u001b[39m\"\u001b[39m)\n",
      "\u001b[1;31mUnicodeDecodeError\u001b[0m: 'utf-8' codec can't decode byte 0xc7 in position 0: invalid continuation byte"
     ]
    }
   ],
   "source": [
    "import subprocess  # 导入subprocess模块，用于执行外部命令\n",
    "import random  # 导入random模块，用于生成随机数据\n",
    "\n",
    "# 生成指定长度的随机二进制字符串\n",
    "def generate_random_binary_string(length=16):\n",
    "    return ''.join(random.choice('01') for _ in range(length))\n",
    "\n",
    "executable_file_path = \"./SPN.exe\"  # 定义外部可执行文件的路径\n",
    "num_pairs = 16000  # 定义要生成的数据对数\n",
    "\n",
    "# 打开文件以写入生成的数据对，\"pairs.txt\"是文件名\n",
    "with open(\"./data/pairs.txt\", \"w\") as file:\n",
    "    for _ in range(num_pairs):  # 生成指定数量的数据对\n",
    "        input_data = generate_random_binary_string()  # 生成随机的输入数据\n",
    "\n",
    "        # 运行外部可执行文件并将输入数据传递给它\n",
    "        result = subprocess.run([executable_file_path], input=input_data.encode(), stdout=subprocess.PIPE, stderr=subprocess.PIPE)\n",
    "        output_data = result.stdout.decode().strip()  # 获取外部命令的标准输出\n",
    "\n",
    "        # 将生成的输入数据和外部命令的输出数据写入文件\n",
    "        file.write(input_data + \"\\n\")\n",
    "        file.write(output_data + \"\\n\")\n"
   ]
  },
  {
   "cell_type": "markdown",
   "metadata": {},
   "source": [
    "以00000000000000000000000000000000为密钥生成若干明文-密文对"
   ]
  },
  {
   "cell_type": "code",
   "execution_count": 4,
   "metadata": {},
   "outputs": [
    {
     "name": "stderr",
     "output_type": "stream",
     "text": [
      "Generating Pairs: 100%|██████████| 16000/16000 [01:51<00:00, 143.92pair/s]"
     ]
    },
    {
     "name": "stdout",
     "output_type": "stream",
     "text": [
      "Generated 16000 pairs and saved to pairs.txt.\n"
     ]
    },
    {
     "name": "stderr",
     "output_type": "stream",
     "text": [
      "\n"
     ]
    }
   ],
   "source": [
    "import subprocess\n",
    "import random\n",
    "\n",
    "def generate_random_binary_string(length=16):\n",
    "    return ''.join(random.choice('01') for _ in range(length))\n",
    "\n",
    "executable_file_path = \"./exe/SPN00.exe\"\n",
    "num_pairs = 16000\n",
    "\n",
    "with open(\"./data/pairs00.txt\", \"w\") as file:\n",
    "    for _ in range(num_pairs):\n",
    "        input_data = generate_random_binary_string()\n",
    "        result = subprocess.run([executable_file_path], input=input_data.encode(), stdout=subprocess.PIPE, stderr=subprocess.PIPE)\n",
    "        output_data = result.stdout.decode().strip()\n",
    "\n",
    "        file.write(input_data + \"\\n\")\n",
    "        file.write(output_data + \"\\n\")\n"
   ]
  },
  {
   "cell_type": "markdown",
   "metadata": {},
   "source": [
    "以11111111111111111111111111111111为密钥生成若干明文-密文对"
   ]
  },
  {
   "cell_type": "code",
   "execution_count": 5,
   "metadata": {},
   "outputs": [
    {
     "name": "stderr",
     "output_type": "stream",
     "text": [
      "Generating Pairs: 100%|██████████| 16000/16000 [01:30<00:00, 176.95pair/s]"
     ]
    },
    {
     "name": "stdout",
     "output_type": "stream",
     "text": [
      "Generated 16000 pairs and saved to pairs.txt.\n"
     ]
    },
    {
     "name": "stderr",
     "output_type": "stream",
     "text": [
      "\n"
     ]
    }
   ],
   "source": [
    "import subprocess\n",
    "import random\n",
    "\n",
    "def generate_random_binary_string(length=16):\n",
    "    return ''.join(random.choice('01') for _ in range(length))\n",
    "\n",
    "executable_file_path = \"./exe/SPN11.exe\"\n",
    "num_pairs = 16000\n",
    "\n",
    "with open(\"./data/pairs11.txt\", \"w\") as file:\n",
    "    for _ in range(num_pairs):\n",
    "        input_data = generate_random_binary_string()\n",
    "        result = subprocess.run([executable_file_path], input=input_data.encode(), stdout=subprocess.PIPE, stderr=subprocess.PIPE)\n",
    "        output_data = result.stdout.decode().strip()\n",
    "\n",
    "        file.write(input_data + \"\\n\")\n",
    "        file.write(output_data + \"\\n\")\n",
    "\n",
    "print(f\"Generated {num_pairs} pairs and saved to pairs.txt.\")\n"
   ]
  },
  {
   "cell_type": "markdown",
   "metadata": {},
   "source": [
    "以01010101010101010101010101010101为密钥生成若干明文-密文对"
   ]
  },
  {
   "cell_type": "code",
   "execution_count": 6,
   "metadata": {},
   "outputs": [
    {
     "name": "stderr",
     "output_type": "stream",
     "text": [
      "Generating Pairs: 100%|██████████| 16000/16000 [01:35<00:00, 168.39pair/s]"
     ]
    },
    {
     "name": "stdout",
     "output_type": "stream",
     "text": [
      "Generated 16000 pairs and saved to pairs.txt.\n"
     ]
    },
    {
     "name": "stderr",
     "output_type": "stream",
     "text": [
      "\n"
     ]
    }
   ],
   "source": [
    "import subprocess\n",
    "import random\n",
    "\n",
    "def generate_random_binary_string(length=16):\n",
    "    return ''.join(random.choice('01') for _ in range(length))\n",
    "\n",
    "executable_file_path = \"./exe/SPN10.exe\"\n",
    "num_pairs = 16000\n",
    "\n",
    "with open(\"./data/pairs01.txt\", \"w\") as file:\n",
    "    for _ in range(num_pairs):\n",
    "        input_data = generate_random_binary_string()\n",
    "        result = subprocess.run([executable_file_path], input=input_data.encode(), stdout=subprocess.PIPE, stderr=subprocess.PIPE)\n",
    "        output_data = result.stdout.decode().strip()\n",
    "\n",
    "        file.write(input_data + \"\\n\")\n",
    "        file.write(output_data + \"\\n\")\n",
    "\n",
    "print(f\"Generated {num_pairs} pairs and saved to pairs.txt.\")\n"
   ]
  },
  {
   "cell_type": "markdown",
   "metadata": {},
   "source": [
    "以10101010101010101010101010101010为密钥生成若干明文-密文对"
   ]
  },
  {
   "cell_type": "code",
   "execution_count": 7,
   "metadata": {},
   "outputs": [
    {
     "name": "stderr",
     "output_type": "stream",
     "text": [
      "Generating Pairs: 100%|██████████| 16000/16000 [01:30<00:00, 176.13pair/s]"
     ]
    },
    {
     "name": "stdout",
     "output_type": "stream",
     "text": [
      "Generated 16000 pairs and saved to pairs.txt.\n"
     ]
    },
    {
     "name": "stderr",
     "output_type": "stream",
     "text": [
      "\n"
     ]
    }
   ],
   "source": [
    "import subprocess\n",
    "import random\n",
    "from tqdm import tqdm\n",
    "\n",
    "def generate_random_binary_string(length=16):\n",
    "    return ''.join(random.choice('01') for _ in range(length))\n",
    "\n",
    "executable_file_path = \"./exe/SPN01.exe\"\n",
    "num_pairs = 16000\n",
    "\n",
    "with open(\"./data/pairs10.txt\", \"w\") as file:\n",
    "    for _ in tqdm(range(num_pairs), desc=\"Generating Pairs\", unit=\"pair\"):\n",
    "        input_data = generate_random_binary_string()\n",
    "        result = subprocess.run([executable_file_path], input=input_data.encode(), stdout=subprocess.PIPE, stderr=subprocess.PIPE)\n",
    "        output_data = result.stdout.decode().strip()\n",
    "\n",
    "        file.write(input_data + \"\\n\")\n",
    "        file.write(output_data + \"\\n\")\n",
    "\n",
    "print(f\"Generated {num_pairs} pairs and saved to pairs.txt.\")\n"
   ]
  },
  {
   "cell_type": "markdown",
   "metadata": {},
   "source": [
    "随机生成16000个16位二进制数，并与给定串进行异或计算"
   ]
  },
  {
   "cell_type": "code",
   "execution_count": 2,
   "metadata": {},
   "outputs": [
    {
     "name": "stderr",
     "output_type": "stream",
     "text": [
      "Generating XOR Results: 100%|██████████| 16000/16000 [00:00<00:00, 591012.37string/s]"
     ]
    },
    {
     "name": "stdout",
     "output_type": "stream",
     "text": [
      "Finished generating XOR results and saved to 'xor.txt'\n"
     ]
    },
    {
     "name": "stderr",
     "output_type": "stream",
     "text": [
      "\n"
     ]
    }
   ],
   "source": [
    "import random\n",
    "from tqdm import tqdm\n",
    "\n",
    "num_pairs = 16000\n",
    "random_binary_strings = [''.join(random.choice('01') for _ in range(16)) for _ in range(num_pairs)]\n",
    "\n",
    "# 给定的二进制串\n",
    "given_binary_string = '0000101100000000'\n",
    "\n",
    "with open('./data/xor.txt', 'w') as file:\n",
    "    for binary_string in tqdm(random_binary_strings, desc=\"Generating XOR Results\", unit=\"string\"):\n",
    "        binary_int = int(binary_string, 2)\n",
    "        given_int = int(given_binary_string, 2)\n",
    "        result_int = binary_int ^ given_int\n",
    "\n",
    "        result_binary_string = format(result_int, '016b')\n",
    "        file.write(binary_string + \"\\n\")\n",
    "        file.write(result_binary_string + \"\\n\")\n",
    "\n",
    "print(\"Finished generating XOR results and saved to 'xor.txt'\")\n"
   ]
  }
 ],
 "metadata": {
  "kernelspec": {
   "display_name": "Python 3",
   "language": "python",
   "name": "python3"
  },
  "language_info": {
   "codemirror_mode": {
    "name": "ipython",
    "version": 3
   },
   "file_extension": ".py",
   "mimetype": "text/x-python",
   "name": "python",
   "nbconvert_exporter": "python",
   "pygments_lexer": "ipython3",
   "version": "3.11.6"
  }
 },
 "nbformat": 4,
 "nbformat_minor": 2
}
